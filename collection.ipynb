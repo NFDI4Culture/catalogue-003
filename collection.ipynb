{
 "cells": [
  {
   "cell_type": "code",
   "execution_count": 1,
   "metadata": {},
   "outputs": [
    {
     "name": "stdout",
     "output_type": "stream",
     "text": [
      "{'item': {'type': 'uri', 'value': 'http://www.wikidata.org/entity/Q3874247'}, 'collection': {'type': 'uri', 'value': 'http://www.wikidata.org/entity/Q190804'}, 'image': {'type': 'uri', 'value': 'http://commons.wikimedia.org/wiki/Special:FilePath/Rembrandt%20Harmensz.%20van%20Rijn%20012.jpg'}, 'itemLabel': {'type': 'literal', 'value': 'Q3874247'}}\n",
      "{'item': {'type': 'uri', 'value': 'http://www.wikidata.org/entity/Q17328722'}, 'collection': {'type': 'uri', 'value': 'http://www.wikidata.org/entity/Q190804'}, 'image': {'type': 'uri', 'value': 'http://commons.wikimedia.org/wiki/Special:FilePath/Jongenskopje%20Rijksmuseum%20SK-A-2391.jpeg'}, 'itemLabel': {'type': 'literal', 'value': 'Q17328722'}}\n",
      "{'item': {'type': 'uri', 'value': 'http://www.wikidata.org/entity/Q9396869'}, 'collection': {'type': 'uri', 'value': 'http://www.wikidata.org/entity/Q19675'}, 'image': {'type': 'uri', 'value': 'http://commons.wikimedia.org/wiki/Special:FilePath/Rembrandt%20Harmensz.%20van%20Rijn%20049.jpg'}, 'itemLabel': {'type': 'literal', 'value': 'Q9396869'}}\n",
      "{'item': {'type': 'uri', 'value': 'http://www.wikidata.org/entity/Q4373336'}, 'collection': {'type': 'uri', 'value': 'http://www.wikidata.org/entity/Q190804'}, 'image': {'type': 'uri', 'value': 'http://commons.wikimedia.org/wiki/Special:FilePath/Portret%20van%20een%20vrouw%2C%20mogelijk%20Maria%20Trip%20Rijksmuseum%20SK-C-597.jpeg'}, 'itemLabel': {'type': 'literal', 'value': 'Q4373336'}}\n",
      "{'item': {'type': 'uri', 'value': 'http://www.wikidata.org/entity/Q20651198'}, 'collection': {'type': 'uri', 'value': 'http://www.wikidata.org/entity/Q19675'}, 'image': {'type': 'uri', 'value': 'http://commons.wikimedia.org/wiki/Special:FilePath/Rembrandt%20Portrait%20of%20Titus%20van%20Rijn.jpg'}, 'itemLabel': {'type': 'literal', 'value': 'Q20651198'}}\n",
      "{'item': {'type': 'uri', 'value': 'http://www.wikidata.org/entity/Q19421160'}, 'collection': {'type': 'uri', 'value': 'http://www.wikidata.org/entity/Q19675'}, 'image': {'type': 'uri', 'value': 'http://commons.wikimedia.org/wiki/Special:FilePath/Oopjen%20Coppit%20%281611-1689%29%20Portret%20van%20Oopjen%20Coppit%2C%20SK-C-1768.jpg'}, 'itemLabel': {'type': 'literal', 'value': 'Q19421160'}}\n",
      "{'item': {'type': 'uri', 'value': 'http://www.wikidata.org/entity/Q18397036'}, 'collection': {'type': 'uri', 'value': 'http://www.wikidata.org/entity/Q19675'}, 'image': {'type': 'uri', 'value': 'http://commons.wikimedia.org/wiki/Special:FilePath/Rembrandt%20-%20Landschaft%20mit%20Geb%C3%A4uden.jpg'}, 'itemLabel': {'type': 'literal', 'value': 'Q18397036'}}\n",
      "{'item': {'type': 'uri', 'value': 'http://www.wikidata.org/entity/Q17276109'}, 'collection': {'type': 'uri', 'value': 'http://www.wikidata.org/entity/Q190804'}, 'image': {'type': 'uri', 'value': 'http://commons.wikimedia.org/wiki/Special:FilePath/Rembrandt%20van%20Rijn%20-%20Self-Portrait%20-%20840%20-%20Rijksmuseum.jpg'}, 'itemLabel': {'type': 'literal', 'value': 'Q17276109'}}\n",
      "{'item': {'type': 'uri', 'value': 'http://www.wikidata.org/entity/Q17338080'}, 'collection': {'type': 'uri', 'value': 'http://www.wikidata.org/entity/Q190804'}, 'image': {'type': 'uri', 'value': 'http://commons.wikimedia.org/wiki/Special:FilePath/De%20heilige%20familie%20bij%20avond%20Rijksmuseum%20SK-A-4119.jpeg'}, 'itemLabel': {'type': 'literal', 'value': 'Q17338080'}}\n",
      "{'item': {'type': 'uri', 'value': 'http://www.wikidata.org/entity/Q21418803'}, 'collection': {'type': 'uri', 'value': 'http://www.wikidata.org/entity/Q19675'}, 'image': {'type': 'uri', 'value': 'http://commons.wikimedia.org/wiki/Special:FilePath/Rembrandt%20Harmensz.%20van%20Rijn%20081.jpg'}, 'itemLabel': {'type': 'literal', 'value': 'Q21418803'}}\n",
      "{'item': {'type': 'uri', 'value': 'http://www.wikidata.org/entity/Q2252345'}, 'collection': {'type': 'uri', 'value': 'http://www.wikidata.org/entity/Q190804'}, 'image': {'type': 'uri', 'value': 'http://commons.wikimedia.org/wiki/Special:FilePath/Dr%20Deijman%E2%80%99s%20Anatomy%20Lesson%20%28fragment%29%2C%20by%20Rembrandt.jpg'}, 'itemLabel': {'type': 'literal', 'value': 'Q2252345'}}\n",
      "{'item': {'type': 'uri', 'value': 'http://www.wikidata.org/entity/Q21669424'}, 'collection': {'type': 'uri', 'value': 'http://www.wikidata.org/entity/Q19675'}, 'image': {'type': 'uri', 'value': 'http://commons.wikimedia.org/wiki/Special:FilePath/Rembrandt%20-%20Portrait%20of%20an%20old%20man%20with%20a%20beard%20-%20INV%201748.jpg'}, 'itemLabel': {'type': 'literal', 'value': 'Q21669424'}}\n",
      "{'item': {'type': 'uri', 'value': 'http://www.wikidata.org/entity/Q9158957'}, 'collection': {'type': 'uri', 'value': 'http://www.wikidata.org/entity/Q19675'}, 'image': {'type': 'uri', 'value': 'http://commons.wikimedia.org/wiki/Special:FilePath/Rembrandt%20De%20aartsengel%20verlaat%20Tobias%20en%20zijn%20gezin.%201637.jpg'}, 'itemLabel': {'type': 'literal', 'value': 'Q9158957'}}\n",
      "{'item': {'type': 'uri', 'value': 'http://www.wikidata.org/entity/Q740212'}, 'collection': {'type': 'uri', 'value': 'http://www.wikidata.org/entity/Q190804'}, 'image': {'type': 'uri', 'value': 'http://commons.wikimedia.org/wiki/Special:FilePath/Rembrandt%20Harmensz.%20van%20Rijn%20-%20Jeremia%20treurend%20over%20de%20verwoesting%20van%20Jeruzalem%20-%20Google%20Art%20Project.jpg'}, 'itemLabel': {'type': 'literal', 'value': 'Q740212'}}\n",
      "{'item': {'type': 'uri', 'value': 'http://www.wikidata.org/entity/Q16610825'}, 'collection': {'type': 'uri', 'value': 'http://www.wikidata.org/entity/Q190804'}, 'image': {'type': 'uri', 'value': 'http://commons.wikimedia.org/wiki/Special:FilePath/Rembrandt%20Harmensz.%20van%20Rijn%20154.jpg'}, 'itemLabel': {'type': 'literal', 'value': 'Q16610825'}}\n",
      "{'item': {'type': 'uri', 'value': 'http://www.wikidata.org/entity/Q3646498'}, 'collection': {'type': 'uri', 'value': 'http://www.wikidata.org/entity/Q19675'}, 'image': {'type': 'uri', 'value': 'http://commons.wikimedia.org/wiki/Special:FilePath/Rembrandt%20-%20The%20Flayed%20Ox%20-%20WGA19252.jpg'}, 'itemLabel': {'type': 'literal', 'value': 'Q3646498'}}\n",
      "{'item': {'type': 'uri', 'value': 'http://www.wikidata.org/entity/Q19421105'}, 'collection': {'type': 'uri', 'value': 'http://www.wikidata.org/entity/Q19675'}, 'image': {'type': 'uri', 'value': 'http://commons.wikimedia.org/wiki/Special:FilePath/Marten%20Soolmans%20%281613-1641%29%2C%20by%20Rembrandt.jpg'}, 'itemLabel': {'type': 'literal', 'value': 'Q19421105'}}\n",
      "{'item': {'type': 'uri', 'value': 'http://www.wikidata.org/entity/Q17336120'}, 'collection': {'type': 'uri', 'value': 'http://www.wikidata.org/entity/Q190804'}, 'image': {'type': 'uri', 'value': 'http://commons.wikimedia.org/wiki/Special:FilePath/Jonge%20vrouw%20in%20gefantaseerde%20kleding%20Rijksmuseum%20SK-A-4057.jpeg'}, 'itemLabel': {'type': 'literal', 'value': 'Q17336120'}}\n"
     ]
    }
   ],
   "source": [
    "# pip install sparqlwrapper\n",
    "# https://rdflib.github.io/sparqlwrapper/\n",
    "\n",
    "import sys\n",
    "from SPARQLWrapper import SPARQLWrapper, JSON\n",
    "from PIL import Image\n",
    "import requests\n",
    "\n",
    "endpoint_url = \"https://query.wikidata.org/sparql\"\n",
    "\n",
    "query = \"\"\"#Paintings by Rembrandt in the Louvre or the Rijkmuseum\n",
    "#defaultView:ImageGrid\n",
    "SELECT DISTINCT ?item ?itemLabel ?itemDescription ?image ?collection WHERE {\n",
    "  ?item wdt:P31 wd:Q3305213;\n",
    "    wdt:P170 wd:Q5598;\n",
    "    (wdt:P195/(wdt:P361*)) ?collection.\n",
    "  FILTER((?collection = wd:Q190804) || (?collection = wd:Q19675))\n",
    "  OPTIONAL { ?item wdt:P18 ?image. }\n",
    "  SERVICE wikibase:label { bd:serviceParam wikibase:language \"[AUTO_LANGUAGE]\". }\n",
    "}\n",
    "LIMIT 18\"\"\"\n",
    "\n",
    "\n",
    "def get_results(endpoint_url, query):\n",
    "    user_agent = \"WDQS-example Python/%s.%s\" % (sys.version_info[0], sys.version_info[1])\n",
    "    # TODO adjust user agent; see https://w.wiki/CX6\n",
    "    sparql = SPARQLWrapper(endpoint_url, agent=user_agent)\n",
    "    sparql.setQuery(query)\n",
    "    sparql.setReturnFormat(JSON)\n",
    "    return sparql.query().convert()\n",
    "\n",
    "\n",
    "results = get_results(endpoint_url, query)\n",
    "\n",
    "for result in results[\"results\"][\"bindings\"]:\n",
    "    print(result)\n",
    "\n"
   ]
  }
 ],
 "metadata": {
  "kernelspec": {
   "display_name": "Python 3",
   "language": "python",
   "name": "python3"
  },
  "language_info": {
   "codemirror_mode": {
    "name": "ipython",
    "version": 3
   },
   "file_extension": ".py",
   "mimetype": "text/x-python",
   "name": "python",
   "nbconvert_exporter": "python",
   "pygments_lexer": "ipython3",
   "version": "3.8.8"
  },
  "orig_nbformat": 4,
  "vscode": {
   "interpreter": {
    "hash": "a920c9d5d3e1c7f9c99cf4aa51a697c7c8101aa2a5b706c50ec3b4f2ff7ff5ae"
   }
  }
 },
 "nbformat": 4,
 "nbformat_minor": 2
}
