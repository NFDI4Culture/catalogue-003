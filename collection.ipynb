{
 "cells": [
  {
   "cell_type": "code",
   "execution_count": 1,
   "metadata": {},
   "outputs": [
    {
     "name": "stdout",
     "output_type": "stream",
     "text": [
      "Defaulting to user installation because normal site-packages is not writeable\n",
      "Requirement already satisfied: sparqlwrapper in /Users/memotuku/.local/lib/python3.8/site-packages (2.0.0)\n",
      "Requirement already satisfied: rdflib>=6.1.1 in /Users/memotuku/.local/lib/python3.8/site-packages (from sparqlwrapper) (6.3.2)\n",
      "Requirement already satisfied: pyparsing<4,>=2.1.0 in /opt/anaconda3/lib/python3.8/site-packages (from rdflib>=6.1.1->sparqlwrapper) (2.4.7)\n",
      "Requirement already satisfied: isodate<0.7.0,>=0.6.0 in /Users/memotuku/.local/lib/python3.8/site-packages (from rdflib>=6.1.1->sparqlwrapper) (0.6.1)\n",
      "Requirement already satisfied: six in /opt/anaconda3/lib/python3.8/site-packages (from isodate<0.7.0,>=0.6.0->rdflib>=6.1.1->sparqlwrapper) (1.15.0)\n",
      "Note: you may need to restart the kernel to use updated packages.\n"
     ]
    }
   ],
   "source": [
    "pip install sparqlwrapper"
   ]
  },
  {
   "cell_type": "code",
   "execution_count": 2,
   "metadata": {},
   "outputs": [
    {
     "name": "stdout",
     "output_type": "stream",
     "text": [
      "{'artist': {'type': 'uri', 'value': 'http://www.wikidata.org/entity/Q8537'}, 'painting': {'type': 'uri', 'value': 'http://www.wikidata.org/entity/Q3945710'}, 'paintingLabel': {'type': 'literal', 'value': 'Q3945710'}, 'artistLabel': {'xml:lang': 'de', 'type': 'literal', 'value': 'Bernardino Luini'}, 'originLabel': {'xml:lang': 'de', 'type': 'literal', 'value': 'Uffizien'}}\n",
      "{'artist': {'type': 'uri', 'value': 'http://www.wikidata.org/entity/Q7803'}, 'painting': {'type': 'uri', 'value': 'http://www.wikidata.org/entity/Q108314527'}, 'paintingLabel': {'xml:lang': 'de', 'type': 'literal', 'value': 'Porträt des Zwergs Nano Morgante'}, 'artistLabel': {'xml:lang': 'de', 'type': 'literal', 'value': 'Agnolo Bronzino'}, 'originLabel': {'xml:lang': 'de', 'type': 'literal', 'value': 'Uffizien'}}\n",
      "{'artist': {'type': 'uri', 'value': 'http://www.wikidata.org/entity/Q8537'}, 'painting': {'type': 'uri', 'value': 'http://www.wikidata.org/entity/Q3842633'}, 'paintingLabel': {'xml:lang': 'de', 'type': 'literal', 'value': 'Madonna im Rosengarten'}, 'artistLabel': {'xml:lang': 'de', 'type': 'literal', 'value': 'Bernardino Luini'}, 'originLabel': {'xml:lang': 'de', 'type': 'literal', 'value': 'Pinacoteca di Brera'}}\n",
      "{'artist': {'type': 'uri', 'value': 'http://www.wikidata.org/entity/Q8537'}, 'painting': {'type': 'uri', 'value': 'http://www.wikidata.org/entity/Q28004411'}, 'paintingLabel': {'xml:lang': 'de', 'type': 'literal', 'value': 'Ham verspottet Noah'}, 'artistLabel': {'xml:lang': 'de', 'type': 'literal', 'value': 'Bernardino Luini'}, 'originLabel': {'xml:lang': 'de', 'type': 'literal', 'value': 'Pinacoteca di Brera'}}\n",
      "{'artist': {'type': 'uri', 'value': 'http://www.wikidata.org/entity/Q7803'}, 'painting': {'type': 'uri', 'value': 'http://www.wikidata.org/entity/Q110015681'}, 'paintingLabel': {'xml:lang': 'de', 'type': 'literal', 'value': 'Johannes der Täufer'}, 'artistLabel': {'xml:lang': 'de', 'type': 'literal', 'value': 'Agnolo Bronzino'}, 'originLabel': {'xml:lang': 'de', 'type': 'literal', 'value': 'Galleria Borghese'}}\n",
      "{'artist': {'type': 'uri', 'value': 'http://www.wikidata.org/entity/Q8537'}, 'painting': {'type': 'uri', 'value': 'http://www.wikidata.org/entity/Q17652075'}, 'paintingLabel': {'type': 'literal', 'value': 'Q17652075'}, 'artistLabel': {'xml:lang': 'de', 'type': 'literal', 'value': 'Bernardino Luini'}, 'originLabel': {'xml:lang': 'de', 'type': 'literal', 'value': 'Pinacoteca Ambrosiana'}}\n",
      "{'artist': {'type': 'uri', 'value': 'http://www.wikidata.org/entity/Q7803'}, 'painting': {'type': 'uri', 'value': 'http://www.wikidata.org/entity/Q1430990'}, 'paintingLabel': {'xml:lang': 'de', 'type': 'literal', 'value': 'Allegorie der Liebe'}, 'artistLabel': {'xml:lang': 'de', 'type': 'literal', 'value': 'Agnolo Bronzino'}, 'originLabel': {'xml:lang': 'de', 'type': 'literal', 'value': 'Italien'}}\n",
      "{'artist': {'type': 'uri', 'value': 'http://www.wikidata.org/entity/Q7803'}, 'painting': {'type': 'uri', 'value': 'http://www.wikidata.org/entity/Q107287657'}, 'paintingLabel': {'xml:lang': 'de', 'type': 'literal', 'value': 'Christus im Limbo'}, 'artistLabel': {'xml:lang': 'de', 'type': 'literal', 'value': 'Agnolo Bronzino'}, 'originLabel': {'xml:lang': 'de', 'type': 'literal', 'value': 'Santa Croce'}}\n",
      "{'artist': {'type': 'uri', 'value': 'http://www.wikidata.org/entity/Q7803'}, 'painting': {'type': 'uri', 'value': 'http://www.wikidata.org/entity/Q1328065'}, 'paintingLabel': {'xml:lang': 'de', 'type': 'literal', 'value': \"Porträt der Eleonora von Toledo und ihres Sohnes Giovanni de' Medici\"}, 'artistLabel': {'xml:lang': 'de', 'type': 'literal', 'value': 'Agnolo Bronzino'}, 'originLabel': {'xml:lang': 'de', 'type': 'literal', 'value': 'Uffizien'}}\n",
      "{'artist': {'type': 'uri', 'value': 'http://www.wikidata.org/entity/Q7803'}, 'painting': {'type': 'uri', 'value': 'http://www.wikidata.org/entity/Q1990128'}, 'paintingLabel': {'xml:lang': 'de', 'type': 'literal', 'value': 'Porträt der Lukrezia Panciatichi'}, 'artistLabel': {'xml:lang': 'de', 'type': 'literal', 'value': 'Agnolo Bronzino'}, 'originLabel': {'xml:lang': 'de', 'type': 'literal', 'value': 'Uffizien'}}\n",
      "{'artist': {'type': 'uri', 'value': 'http://www.wikidata.org/entity/Q7803'}, 'painting': {'type': 'uri', 'value': 'http://www.wikidata.org/entity/Q3625842'}, 'paintingLabel': {'xml:lang': 'de', 'type': 'literal', 'value': \"Porträt von Cosimo I de' Medici in Rüstung\"}, 'artistLabel': {'xml:lang': 'de', 'type': 'literal', 'value': 'Agnolo Bronzino'}, 'originLabel': {'xml:lang': 'de', 'type': 'literal', 'value': 'Uffizien'}}\n",
      "{'artist': {'type': 'uri', 'value': 'http://www.wikidata.org/entity/Q7803'}, 'painting': {'type': 'uri', 'value': 'http://www.wikidata.org/entity/Q3784272'}, 'paintingLabel': {'xml:lang': 'de', 'type': 'literal', 'value': \"Porträt von Giovanni de' Medici als Kind\"}, 'artistLabel': {'xml:lang': 'de', 'type': 'literal', 'value': 'Agnolo Bronzino'}, 'originLabel': {'xml:lang': 'de', 'type': 'literal', 'value': 'Uffizien'}}\n",
      "{'artist': {'type': 'uri', 'value': 'http://www.wikidata.org/entity/Q7803'}, 'painting': {'type': 'uri', 'value': 'http://www.wikidata.org/entity/Q3944462'}, 'paintingLabel': {'xml:lang': 'de', 'type': 'literal', 'value': 'Panciatichi Heilige Familie'}, 'artistLabel': {'xml:lang': 'de', 'type': 'literal', 'value': 'Agnolo Bronzino'}, 'originLabel': {'xml:lang': 'de', 'type': 'literal', 'value': 'Uffizien'}}\n",
      "{'artist': {'type': 'uri', 'value': 'http://www.wikidata.org/entity/Q7803'}, 'painting': {'type': 'uri', 'value': 'http://www.wikidata.org/entity/Q50378007'}, 'paintingLabel': {'type': 'literal', 'value': 'Q50378007'}, 'artistLabel': {'xml:lang': 'de', 'type': 'literal', 'value': 'Agnolo Bronzino'}, 'originLabel': {'xml:lang': 'de', 'type': 'literal', 'value': 'Uffizien'}}\n",
      "{'artist': {'type': 'uri', 'value': 'http://www.wikidata.org/entity/Q7803'}, 'painting': {'type': 'uri', 'value': 'http://www.wikidata.org/entity/Q50378015'}, 'paintingLabel': {'type': 'literal', 'value': 'Q50378015'}, 'artistLabel': {'xml:lang': 'de', 'type': 'literal', 'value': 'Agnolo Bronzino'}, 'originLabel': {'xml:lang': 'de', 'type': 'literal', 'value': 'Uffizien'}}\n",
      "{'artist': {'type': 'uri', 'value': 'http://www.wikidata.org/entity/Q7803'}, 'painting': {'type': 'uri', 'value': 'http://www.wikidata.org/entity/Q50384906'}, 'paintingLabel': {'xml:lang': 'de', 'type': 'literal', 'value': 'Porträt eines jungen Mannes mit Laute'}, 'artistLabel': {'xml:lang': 'de', 'type': 'literal', 'value': 'Agnolo Bronzino'}, 'originLabel': {'xml:lang': 'de', 'type': 'literal', 'value': 'Uffizien'}}\n",
      "{'artist': {'type': 'uri', 'value': 'http://www.wikidata.org/entity/Q7803'}, 'painting': {'type': 'uri', 'value': 'http://www.wikidata.org/entity/Q50474718'}, 'paintingLabel': {'xml:lang': 'de', 'type': 'literal', 'value': 'Allegorie des Glücks'}, 'artistLabel': {'xml:lang': 'de', 'type': 'literal', 'value': 'Agnolo Bronzino'}, 'originLabel': {'xml:lang': 'de', 'type': 'literal', 'value': 'Uffizien'}}\n",
      "{'artist': {'type': 'uri', 'value': 'http://www.wikidata.org/entity/Q7803'}, 'painting': {'type': 'uri', 'value': 'http://www.wikidata.org/entity/Q83295755'}, 'paintingLabel': {'xml:lang': 'de', 'type': 'literal', 'value': 'Pietà'}, 'artistLabel': {'xml:lang': 'de', 'type': 'literal', 'value': 'Agnolo Bronzino'}, 'originLabel': {'xml:lang': 'de', 'type': 'literal', 'value': 'Uffizien'}}\n"
     ]
    }
   ],
   "source": [
    "#pip install sparqlwrapper\n",
    "# https://rdflib.github.io/sparqlwrapper/\n",
    "\n",
    "import sys\n",
    "from SPARQLWrapper import SPARQLWrapper, JSON\n",
    "\n",
    "endpoint_url = \"https://query.wikidata.org/sparql\"\n",
    "\n",
    "query = \"\"\"#Paintings by Rembrandt in the Louvre or the Rijkmuseum\n",
    "#defaultView:ImageGrid\n",
    "SELECT ?painting ?paintingLabel ?artist ?artistLabel ?originLabel\n",
    "WHERE {\n",
    "  ?painting wdt:P31 wd:Q3305213; # ist ein Gemälde\n",
    "            wdt:P170 ?artist; # hat Künstler\n",
    "            wdt:P276 ?origin. # hat Ursprungsort\n",
    "  ?artist wdt:P27 wd:Q38. # ist von italienischer Nationalität\n",
    "  ?origin wdt:P17 wd:Q38. # ist in Italien\n",
    "  SERVICE wikibase:label { bd:serviceParam wikibase:language \"de\". }\n",
    "}\n",
    "LIMIT 18\"\"\"\n",
    "\n",
    "\n",
    "def get_results(endpoint_url, query):\n",
    "    user_agent = \"WDQS-example Python/%s.%s\" % (sys.version_info[0], sys.version_info[1])\n",
    "    # TODO adjust user agent; see https://w.wiki/CX6\n",
    "    sparql = SPARQLWrapper(endpoint_url, agent=user_agent)\n",
    "    sparql.setQuery(query)\n",
    "    sparql.setReturnFormat(JSON)\n",
    "    return sparql.query().convert()\n",
    "\n",
    "\n",
    "results = get_results(endpoint_url, query)\n",
    "\n",
    "for result in results[\"results\"][\"bindings\"]:\n",
    "    print(result)\n",
    "\n"
   ]
  },
  {
   "cell_type": "code",
   "execution_count": null,
   "metadata": {},
   "outputs": [],
   "source": []
  }
 ],
 "metadata": {
  "kernelspec": {
   "display_name": "Python 3",
   "language": "python",
   "name": "python3"
  },
  "language_info": {
   "codemirror_mode": {
    "name": "ipython",
    "version": 3
   },
   "file_extension": ".py",
   "mimetype": "text/x-python",
   "name": "python",
   "nbconvert_exporter": "python",
   "pygments_lexer": "ipython3",
   "version": "3.8.8"
  },
  "vscode": {
   "interpreter": {
    "hash": "a920c9d5d3e1c7f9c99cf4aa51a697c7c8101aa2a5b706c50ec3b4f2ff7ff5ae"
   }
  }
 },
 "nbformat": 4,
 "nbformat_minor": 2
}
