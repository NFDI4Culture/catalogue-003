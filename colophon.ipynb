{
 "cells": [
  {
   "cell_type": "raw",
   "metadata": {},
   "source": [
    "---\n",
    "title: \"Colophon\"\n",
    "jupyter: python3\n",
    "execute:\n",
    "  echo: false\n",
    "  output: asis\n",
    "---"
   ]
  },
  {
   "attachments": {},
   "cell_type": "markdown",
   "metadata": {},
   "source": [
    "Fork title: \n",
    "\n",
    "Author: \n",
    "\n",
    "ORCID: \n",
    "\n",
    "Date: \n",
    "\n",
    "DOI: \n",
    "\n",
    "Repository: "
   ]
  },
  {
   "cell_type": "code",
   "execution_count": 3,
   "metadata": {},
   "outputs": [
    {
     "name": "stdout",
     "output_type": "stream",
     "text": [
      "PUBLISHING FROM COLLECTIONS\n",
      "USES OF COMPUTATIONAL PUBLISHING AND LINKED OPEN DATA\n",
      "\n",
      "Open Science Lab - TIB\n",
      "Hannover\n",
      "\n",
      "First published 2023-03-30\n",
      "\n",
      "Copyright © The Authors 2023\n",
      "Licensed as https://creativecommons.org/licenses/by-sa/4.0/\n",
      "\n",
      "DOI: https://doi.org/10.5281/zenodo.7701161\n"
     ]
    }
   ],
   "source": [
    "from thothlibrary import ThothClient\n",
    "from datetime import datetime\n",
    "import json\n",
    "\n",
    "# variables\n",
    "work ='9bf5f52e-6d99-4d62-bcc5-c57b07efa3f0'\n",
    "\n",
    "# calling the Thoth GraphQL API\n",
    "thoth = ThothClient()\n",
    "response = thoth.work_by_id(work_id=work, raw='true')\n",
    "data = json.loads(response)\n",
    "\n",
    "print(data['data']['work']['title'].upper())\n",
    "print(data['data']['work']['subtitle'].upper())\n",
    "print('\\r')\n",
    "print(data['data']['work']['imprint']['publisher']['publisherName'])\n",
    "print(data['data']['work']['place'])\n",
    "print('\\r')\n",
    "print('First published ' + data['data']['work']['publicationDate'])\n",
    "print('\\r')\n",
    "print('Copyright © ' + data['data']['work']['copyrightHolder'] + ' ' + data['data']['work']['publicationDate'][:4])\n",
    "print('Licensed as ' + data['data']['work']['license'])\n",
    "print('\\r')\n",
    "print('DOI: ' + data['data']['work']['doi'])\n"
   ]
  }
 ],
 "metadata": {
  "kernelspec": {
   "display_name": "Python 3",
   "language": "python",
   "name": "python3"
  },
  "language_info": {
   "codemirror_mode": {
    "name": "ipython",
    "version": 3
   },
   "file_extension": ".py",
   "mimetype": "text/x-python",
   "name": "python",
   "nbconvert_exporter": "python",
   "pygments_lexer": "ipython3",
   "version": "3.11.8"
  },
  "orig_nbformat": 4,
  "vscode": {
   "interpreter": {
    "hash": "4f95cac2866d48a154725f15da66ad3889a01053732bcd1fedad154961939282"
   }
  }
 },
 "nbformat": 4,
 "nbformat_minor": 2
}
