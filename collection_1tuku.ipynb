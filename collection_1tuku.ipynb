{
 "cells": [
  {
   "cell_type": "code",
   "execution_count": 1,
   "metadata": {},
   "outputs": [
    {
     "name": "stdout",
     "output_type": "stream",
     "text": [
      "Wikidata link: [http://www.wikidata.org/entity/Q28803748](http://www.wikidata.org/entity/Q28803748)\n",
      "\n",
      "Title: Q28803748\n",
      "\n",
      "Creator: Giovanni Benedetto Castiglione\n",
      "\n"
     ]
    },
    {
     "ename": "AttributeError",
     "evalue": "module 'PIL.Image' has no attribute 'Resampling'",
     "output_type": "error",
     "traceback": [
      "\u001b[0;31m---------------------------------------------------------------------------\u001b[0m",
      "\u001b[0;31mAttributeError\u001b[0m                            Traceback (most recent call last)",
      "\u001b[0;32m<ipython-input-1-82db1e3671a7>\u001b[0m in \u001b[0;36m<module>\u001b[0;34m\u001b[0m\n\u001b[1;32m     68\u001b[0m       \u001b[0mheaders\u001b[0m \u001b[0;34m=\u001b[0m \u001b[0;34m{\u001b[0m\u001b[0;34m'User-Agent'\u001b[0m\u001b[0;34m:\u001b[0m \u001b[0;34m'Ex_Books_conference_bot/0.0 (https://github.com/SimonXIX/Experimental_Books_workshop; ad7588@coventry.ac.uk)'\u001b[0m\u001b[0;34m}\u001b[0m\u001b[0;34m\u001b[0m\u001b[0;34m\u001b[0m\u001b[0m\n\u001b[1;32m     69\u001b[0m       \u001b[0mim\u001b[0m \u001b[0;34m=\u001b[0m \u001b[0mget_image\u001b[0m\u001b[0;34m(\u001b[0m\u001b[0mimage_url\u001b[0m\u001b[0;34m,\u001b[0m \u001b[0mheaders\u001b[0m\u001b[0;34m)\u001b[0m\u001b[0;34m\u001b[0m\u001b[0;34m\u001b[0m\u001b[0m\n\u001b[0;32m---> 70\u001b[0;31m       \u001b[0mim\u001b[0m\u001b[0;34m.\u001b[0m\u001b[0mthumbnail\u001b[0m\u001b[0;34m(\u001b[0m\u001b[0;34m(\u001b[0m\u001b[0;36m500\u001b[0m\u001b[0;34m,\u001b[0m \u001b[0;36m500\u001b[0m\u001b[0;34m)\u001b[0m\u001b[0;34m,\u001b[0m \u001b[0mImage\u001b[0m\u001b[0;34m.\u001b[0m\u001b[0mResampling\u001b[0m\u001b[0;34m.\u001b[0m\u001b[0mLANCZOS\u001b[0m\u001b[0;34m)\u001b[0m\u001b[0;34m\u001b[0m\u001b[0;34m\u001b[0m\u001b[0m\n\u001b[0m\u001b[1;32m     71\u001b[0m       \u001b[0mdisplay\u001b[0m\u001b[0;34m(\u001b[0m\u001b[0mim\u001b[0m\u001b[0;34m)\u001b[0m\u001b[0;34m\u001b[0m\u001b[0;34m\u001b[0m\u001b[0m\n\u001b[1;32m     72\u001b[0m     \u001b[0mprint\u001b[0m\u001b[0;34m(\u001b[0m\u001b[0;34m'\\n\\n'\u001b[0m\u001b[0;34m)\u001b[0m\u001b[0;34m\u001b[0m\u001b[0;34m\u001b[0m\u001b[0m\n",
      "\u001b[0;32m/opt/anaconda3/lib/python3.8/site-packages/PIL/Image.py\u001b[0m in \u001b[0;36m__getattr__\u001b[0;34m(name)\u001b[0m\n\u001b[1;32m     70\u001b[0m                 )\n\u001b[1;32m     71\u001b[0m                 \u001b[0;32mreturn\u001b[0m \u001b[0mcategories\u001b[0m\u001b[0;34m[\u001b[0m\u001b[0mname\u001b[0m\u001b[0;34m]\u001b[0m\u001b[0;34m\u001b[0m\u001b[0;34m\u001b[0m\u001b[0m\n\u001b[0;32m---> 72\u001b[0;31m         \u001b[0;32mraise\u001b[0m \u001b[0mAttributeError\u001b[0m\u001b[0;34m(\u001b[0m\u001b[0;34mf\"module '{__name__}' has no attribute '{name}'\"\u001b[0m\u001b[0;34m)\u001b[0m\u001b[0;34m\u001b[0m\u001b[0;34m\u001b[0m\u001b[0m\n\u001b[0m\u001b[1;32m     73\u001b[0m \u001b[0;34m\u001b[0m\u001b[0m\n\u001b[1;32m     74\u001b[0m \u001b[0;34m\u001b[0m\u001b[0m\n",
      "\u001b[0;31mAttributeError\u001b[0m: module 'PIL.Image' has no attribute 'Resampling'"
     ]
    }
   ],
   "source": [
    "# pip install sparqlwrapper\n",
    "# https://rdflib.github.io/sparqlwrapper/\n",
    "\n",
    "import sys\n",
    "from SPARQLWrapper import SPARQLWrapper, JSON\n",
    "\n",
    "from PIL import Image\n",
    "import requests\n",
    "\n",
    "endpoint_url = \"https://query.wikidata.org/sparql\"\n",
    "\n",
    "query = \"\"\"SELECT ?painting ?paintingLabel ?artist ?artistLabel ?originLabel ?image WHERE {\n",
    "  ?painting wdt:P31 wd:Q3305213;\n",
    "    wdt:P170 ?artist;\n",
    "    wdt:P276 ?origin.\n",
    "  ?artist wdt:P27 wd:Q38.\n",
    "  ?origin wdt:P17 wd:Q38.\n",
    "  SERVICE wikibase:label { bd:serviceParam wikibase:language \"de\". }\n",
    "  OPTIONAL { ?painting wdt:P18 ?image. }\n",
    "}\n",
    "LIMIT 9\"\"\"\n",
    "\n",
    "# SUBROUTINES\n",
    "\n",
    "def get_delay(date):\n",
    "    try:\n",
    "        date = datetime.datetime.strptime(date, '%a, %d %b %Y %H:%M:%S GMT')\n",
    "        timeout = int((date - datetime.datetime.now()).total_seconds())\n",
    "    except ValueError:\n",
    "        timeout = int(date)\n",
    "    return timeout\n",
    "\n",
    "def get_image(url, headers):\n",
    "    r = requests.get(url, headers=headers, stream=True)\n",
    "    if r.status_code == 200:\n",
    "        im = Image.open(r.raw)\n",
    "        return im\n",
    "    if r.status_code == 500:\n",
    "        return None\n",
    "    if r.status_code == 403:\n",
    "        return None\n",
    "    if r.status_code == 429:\n",
    "        timeout = get_delay(r.headers['retry-after'])\n",
    "        print('Timeout {} m {} s'.format(timeout // 60, timeout % 60))\n",
    "        time.sleep(timeout)\n",
    "        get_image(url, headers)\n",
    "\n",
    "def get_results(endpoint_url, query):\n",
    "    user_agent = \"WDQS-example Python/%s.%s\" % (sys.version_info[0], sys.version_info[1])\n",
    "    # TODO adjust user agent; see https://w.wiki/CX6\n",
    "    sparql = SPARQLWrapper(endpoint_url, agent=user_agent)\n",
    "    sparql.setQuery(query)\n",
    "    sparql.setReturnFormat(JSON)\n",
    "    return sparql.query().convert()\n",
    "\n",
    "# MAIN PROGRAM\n",
    "\n",
    "results = get_results(endpoint_url, query)\n",
    "\n",
    "for result in results[\"results\"][\"bindings\"]:\n",
    "    print('Wikidata link: ' + '[' + result['painting']['value'] + ']' + '(' + result['painting']['value'] + ')' + '\\n')\n",
    "    print('Title: ' + result['paintingLabel']['value'] + '\\n')\n",
    "    print('Creator: ' + result['artistLabel']['value'] + '\\n')\n",
    "\n",
    "    if 'image' in result:\n",
    "      # get image from image URL and display resized version\n",
    "      image_url=result['image']['value']\n",
    "      headers = {'User-Agent': 'Ex_Books_conference_bot/0.0 (https://github.com/SimonXIX/Experimental_Books_workshop; ad7588@coventry.ac.uk)'}\n",
    "      im = get_image(image_url, headers)\n",
    "      im.thumbnail((500, 500), Image.Resampling.LANCZOS)\n",
    "      display(im)\n",
    "    print('\\n\\n')\n"
   ]
  },
  {
   "cell_type": "code",
   "execution_count": null,
   "metadata": {},
   "outputs": [],
   "source": []
  }
 ],
 "metadata": {
  "kernelspec": {
   "display_name": "Python 3",
   "language": "python",
   "name": "python3"
  },
  "language_info": {
   "codemirror_mode": {
    "name": "ipython",
    "version": 3
   },
   "file_extension": ".py",
   "mimetype": "text/x-python",
   "name": "python",
   "nbconvert_exporter": "python",
   "pygments_lexer": "ipython3",
   "version": "3.8.8"
  },
  "vscode": {
   "interpreter": {
    "hash": "a920c9d5d3e1c7f9c99cf4aa51a697c7c8101aa2a5b706c50ec3b4f2ff7ff5ae"
   }
  }
 },
 "nbformat": 4,
 "nbformat_minor": 2
}
