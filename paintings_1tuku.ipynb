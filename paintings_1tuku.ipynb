{
 "cells": [
  {
   "cell_type": "raw",
   "id": "9398d5b7",
   "metadata": {},
   "source": [
    "---\n",
    "title: \"Activity: Paintings catalogue in Jupyter Notebook\"\n",
    "jupyter: python3\n",
    "execute:\n",
    "  echo: false\n",
    "  output: asis\n",
    "---"
   ]
  },
  {
   "cell_type": "markdown",
   "id": "97bccdc4",
   "metadata": {},
   "source": [
    "Objective: Make a selection of nine paintings for the exhibition catalogue to be selected from Wikidata and rendered multi-format in Quarto."
   ]
  },
  {
   "cell_type": "code",
   "execution_count": 1,
   "id": "eae3a22f",
   "metadata": {},
   "outputs": [
    {
     "ename": "KeyError",
     "evalue": "'item'",
     "output_type": "error",
     "traceback": [
      "\u001b[0;31m---------------------------------------------------------------------------\u001b[0m",
      "\u001b[0;31mKeyError\u001b[0m                                  Traceback (most recent call last)",
      "\u001b[0;32m<ipython-input-1-83fa525fe32c>\u001b[0m in \u001b[0;36m<module>\u001b[0;34m\u001b[0m\n\u001b[1;32m     65\u001b[0m \u001b[0;31m# for each result, print various data fields\u001b[0m\u001b[0;34m\u001b[0m\u001b[0;34m\u001b[0m\u001b[0;34m\u001b[0m\u001b[0m\n\u001b[1;32m     66\u001b[0m \u001b[0;32mfor\u001b[0m \u001b[0mitem\u001b[0m \u001b[0;32min\u001b[0m \u001b[0mresult\u001b[0m\u001b[0;34m[\u001b[0m\u001b[0;34m'results'\u001b[0m\u001b[0;34m]\u001b[0m\u001b[0;34m[\u001b[0m\u001b[0;34m'bindings'\u001b[0m\u001b[0;34m]\u001b[0m\u001b[0;34m:\u001b[0m\u001b[0;34m\u001b[0m\u001b[0;34m\u001b[0m\u001b[0m\n\u001b[0;32m---> 67\u001b[0;31m     \u001b[0mprint\u001b[0m\u001b[0;34m(\u001b[0m\u001b[0;34m'Wikidata link: '\u001b[0m \u001b[0;34m+\u001b[0m \u001b[0;34m'['\u001b[0m \u001b[0;34m+\u001b[0m \u001b[0mitem\u001b[0m\u001b[0;34m[\u001b[0m\u001b[0;34m'item'\u001b[0m\u001b[0;34m]\u001b[0m\u001b[0;34m[\u001b[0m\u001b[0;34m'value'\u001b[0m\u001b[0;34m]\u001b[0m \u001b[0;34m+\u001b[0m \u001b[0;34m']'\u001b[0m \u001b[0;34m+\u001b[0m \u001b[0;34m'('\u001b[0m \u001b[0;34m+\u001b[0m \u001b[0mitem\u001b[0m\u001b[0;34m[\u001b[0m\u001b[0;34m'item'\u001b[0m\u001b[0;34m]\u001b[0m\u001b[0;34m[\u001b[0m\u001b[0;34m'value'\u001b[0m\u001b[0;34m]\u001b[0m \u001b[0;34m+\u001b[0m \u001b[0;34m')'\u001b[0m \u001b[0;34m+\u001b[0m \u001b[0;34m'\\n'\u001b[0m\u001b[0;34m)\u001b[0m\u001b[0;34m\u001b[0m\u001b[0;34m\u001b[0m\u001b[0m\n\u001b[0m\u001b[1;32m     68\u001b[0m     \u001b[0mprint\u001b[0m\u001b[0;34m(\u001b[0m\u001b[0;34m'Title: '\u001b[0m \u001b[0;34m+\u001b[0m \u001b[0mitem\u001b[0m\u001b[0;34m[\u001b[0m\u001b[0;34m'itemLabel'\u001b[0m\u001b[0;34m]\u001b[0m\u001b[0;34m[\u001b[0m\u001b[0;34m'value'\u001b[0m\u001b[0;34m]\u001b[0m \u001b[0;34m+\u001b[0m \u001b[0;34m'\\n'\u001b[0m\u001b[0;34m)\u001b[0m\u001b[0;34m\u001b[0m\u001b[0;34m\u001b[0m\u001b[0m\n\u001b[1;32m     69\u001b[0m     \u001b[0mprint\u001b[0m\u001b[0;34m(\u001b[0m\u001b[0;34m'Year: '\u001b[0m \u001b[0;34m+\u001b[0m \u001b[0mitem\u001b[0m\u001b[0;34m[\u001b[0m\u001b[0;34m'inceptionyear'\u001b[0m\u001b[0;34m]\u001b[0m\u001b[0;34m[\u001b[0m\u001b[0;34m'value'\u001b[0m\u001b[0;34m]\u001b[0m \u001b[0;34m+\u001b[0m \u001b[0;34m'\\n'\u001b[0m\u001b[0;34m)\u001b[0m\u001b[0;34m\u001b[0m\u001b[0;34m\u001b[0m\u001b[0m\n",
      "\u001b[0;31mKeyError\u001b[0m: 'item'"
     ]
    }
   ],
   "source": [
    "from SPARQLWrapper import SPARQLWrapper, JSON\n",
    "from PIL import Image\n",
    "import requests\n",
    "\n",
    "# VARIABLES\n",
    "\n",
    "sparql_endpoint_url = 'https://query.wikidata.org/bigdata/namespace/wdq/sparql'\n",
    "wikibase_url = 'https://www.wikidata.org'\n",
    "api_url = '/w/api.php'\n",
    "\n",
    "# Wikidata requires a user agent header to prevent spam requests\n",
    "user_agent = 'Ex_Books_conference_bot/0.0 (https://github.com/SimonXIX/Experimental_Books_workshop; ad7588@coventry.ac.uk)'\n",
    "\n",
    "# SPARQL query\n",
    "# see in Wikidata's Query Service GUI at:\n",
    "# https://query.wikidata.org/#%23defaultView%3AImageGrid%0ASELECT%20%3Fitem%20%3FitemLabel%20%3Finceptionyear%20%3Fcreator%20%3FcreatorLabel%20%3Fcopyright%20%3FcopyrightLabel%20%3Fimage%0AWHERE%0A%7B%0A%20%20%23%20find%20items%20which%3A%0A%20%20%23%20are%20instances%20of%20%28wdt%3AP31%29%20paintings%20%28wd%3AQ3305213%29%0A%20%20%23%20have%20the%20property%20%28wdt%3AP195%29%20of%20being%20in%20collection%20wd%3AQ812285%20%28Bavarian%20State%20Painting%20Collections%20https%3A%2F%2Fwww.wikidata.org%2Fwiki%2FWikidata%3AWikiProject_sum_of_all_paintings%2FCollection%2FBavarian_State_Painting_Collections%29%0A%20%20%3Fitem%20wdt%3AP31%20wd%3AQ3305213%20.%0A%20%20%3Fitem%20wdt%3AP195%20wd%3AQ812285%20.%0A%20%20%23%20get%20the%20item%27s%20creator%20property%20%28wdt%3AP170%29%0A%20%20%3Fitem%20wdt%3AP170%20%3Fcreator%20.%0A%20%20%23%20get%20the%20item%27s%20image%20property%20%28wdt%3AP18%29%0A%20%20%3Fitem%20wdt%3AP18%20%3Fimage%20.%0A%20%20%23%20get%20the%20item%27s%20copyright%20status%20%28wdt%3AP6216%29%0A%20%20%3Fitem%20wdt%3AP6216%20%3Fcopyright%20.%20%0A%20%20%7B%0A%20%20%20%20%3Fitem%20wdt%3AP571%20%3Finception.%0A%20%20%20%20BIND%28YEAR%28%3Finception%29%20AS%20%3Finceptionyear%29%0A%20%20%7D%0A%0A%20%20%23%20filter%20out%20all%20paintings%20not%20created%20between%20the%20years%201600%20and%201700%0A%20%20FILTER%28%281600%20%20%3C%3D%20%3Finceptionyear%29%20%26%26%20%28%3Finceptionyear%20%3C%201700%20%29%29%0A%20%20SERVICE%20wikibase%3Alabel%20%7B%20bd%3AserviceParam%20wikibase%3Alanguage%20%22%5BAUTO_LANGUAGE%5D%2Cen%22.%20%7D%20%7D%0A%23%20limit%20to%20nine%20results%0ALIMIT%209\n",
    "query = \"\"\"\n",
    "SELECT ?painting ?paintingLabel ?artist ?artistLabel ?originLabel ?image WHERE {\n",
    "  ?painting wdt:P31 wd:Q3305213;\n",
    "    wdt:P170 ?artist;\n",
    "    wdt:P276 ?origin.\n",
    "  ?artist wdt:P27 wd:Q38.\n",
    "  ?origin wdt:P17 wd:Q38.\n",
    "  SERVICE wikibase:label { bd:serviceParam wikibase:language \"de\". }\n",
    "  OPTIONAL { ?painting wdt:P18 ?image. }\n",
    "}\n",
    "LIMIT 9\n",
    "\"\"\"\n",
    "\n",
    "# SUBROUTINES\n",
    "\n",
    "def get_delay(date):\n",
    "    try:\n",
    "        date = datetime.datetime.strptime(date, '%a, %d %b %Y %H:%M:%S GMT')\n",
    "        timeout = int((date - datetime.datetime.now()).total_seconds())\n",
    "    except ValueError:\n",
    "        timeout = int(date)\n",
    "    return timeout\n",
    "\n",
    "def get_image(url, headers):\n",
    "    r = requests.get(url, headers=headers, stream=True)\n",
    "    if r.status_code == 200:\n",
    "        im = Image.open(r.raw)\n",
    "        return im\n",
    "    if r.status_code == 500:\n",
    "        return None\n",
    "    if r.status_code == 403:\n",
    "        return None\n",
    "    if r.status_code == 429:\n",
    "        timeout = get_delay(r.headers['retry-after'])\n",
    "        print('Timeout {} m {} s'.format(timeout // 60, timeout % 60))\n",
    "        time.sleep(timeout)\n",
    "        get_image(url, headers)\n",
    "\n",
    "# MAIN PROGRAM\n",
    "\n",
    "# create SPARQL query\n",
    "sparql = SPARQLWrapper(sparql_endpoint_url, agent=user_agent)\n",
    "\n",
    "# retrieve results and convert to JSON format\n",
    "sparql.setQuery(query)\n",
    "sparql.setReturnFormat(JSON)\n",
    "result = sparql.query().convert()\n",
    "\n",
    "# for each result, print various data fields\n",
    "for item in result['results']['bindings']:\n",
    "    print('Wikidata link: ' + '[' + item['item']['value'] + ']' + '(' + item['item']['value'] + ')' + '\\n')\n",
    "    print('Title: ' + item['itemLabel']['value'] + '\\n')\n",
    "    print('Year: ' + item['inceptionyear']['value'] + '\\n')\n",
    "    print('Creator: ' + item['creatorLabel']['value'] + '\\n')\n",
    "    print('Copyright: ' + item['copyrightLabel']['value'] + '\\n')\n",
    "\n",
    "    # get image from image URL and display resized version\n",
    "    image_url=item['image']['value']\n",
    "    headers = {'User-Agent': 'Ex_Books_conference_bot/0.0 (https://github.com/SimonXIX/Experimental_Books_workshop; ad7588@coventry.ac.uk)'}\n",
    "    im = get_image(image_url, headers)\n",
    "    im.thumbnail((500, 500), Image.Resampling.LANCZOS)\n",
    "    display(im)\n",
    "    print('\\n\\n')"
   ]
  },
  {
   "cell_type": "markdown",
   "id": "bd2c1006",
   "metadata": {},
   "source": [
    "The below Python code uses SPARQLWrapper to retrieve data from Wikidata based on a SPARQL query."
   ]
  },
  {
   "cell_type": "code",
   "execution_count": null,
   "id": "90768eba",
   "metadata": {},
   "outputs": [],
   "source": []
  },
  {
   "cell_type": "code",
   "execution_count": null,
   "id": "f2727faa",
   "metadata": {},
   "outputs": [],
   "source": []
  }
 ],
 "metadata": {
  "kernelspec": {
   "display_name": "Python 3",
   "language": "python",
   "name": "python3"
  },
  "language_info": {
   "codemirror_mode": {
    "name": "ipython",
    "version": 3
   },
   "file_extension": ".py",
   "mimetype": "text/x-python",
   "name": "python",
   "nbconvert_exporter": "python",
   "pygments_lexer": "ipython3",
   "version": "3.8.8"
  },
  "vscode": {
   "interpreter": {
    "hash": "4f95cac2866d48a154725f15da66ad3889a01053732bcd1fedad154961939282"
   }
  }
 },
 "nbformat": 4,
 "nbformat_minor": 5
}
